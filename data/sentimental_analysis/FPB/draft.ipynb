{
 "cells": [
  {
   "cell_type": "code",
   "execution_count": 5,
   "metadata": {},
   "outputs": [
    {
     "name": "stdout",
     "output_type": "stream",
     "text": [
      "                                               sentence     label\n",
      "0     According to Gran , the company has no plans t...   neutral\n",
      "1     For the last quarter of 2010 , Componenta 's n...  positive\n",
      "2     In the third quarter of 2010 , net sales incre...  positive\n",
      "3     Operating profit rose to EUR 13.1 mn from EUR ...  positive\n",
      "4     Operating profit totalled EUR 21.1 mn , up fro...  positive\n",
      "...                                                 ...       ...\n",
      "2259  Operating result for the 12-month period decre...  negative\n",
      "2260  HELSINKI Thomson Financial - Shares in Cargote...  negative\n",
      "2261  LONDON MarketWatch -- Share prices ended lower...  negative\n",
      "2262  Operating profit fell to EUR 35.4 mn from EUR ...  negative\n",
      "2263  Sales in Finland decreased by 10.5 % in Januar...  negative\n",
      "\n",
      "[2264 rows x 2 columns]\n"
     ]
    }
   ],
   "source": [
    "import pandas as pd\n",
    "\n",
    "# Initialize an empty list to store the split data\n",
    "data = []\n",
    "\n",
    "# Open the text file and read it line by line\n",
    "with open('Sentences_AllAgree.txt', 'r', encoding='latin-1') as file:\n",
    "    for line in file:\n",
    "        # Strip any leading/trailing whitespace and split by '@'\n",
    "        split_line = line.strip().split('@')\n",
    "        # Append the split data to the list\n",
    "        data.append(split_line)\n",
    "\n",
    "# Convert the list to a pandas DataFrame\n",
    "df = pd.DataFrame(data)\n",
    "\n",
    "# Optionally, you can name the columns if you know how many parts each line splits into\n",
    "# For example, if each line splits into 3 parts:\n",
    "df.columns = ['sentence', 'label']\n",
    "\n",
    "# Display the DataFrame\n",
    "print(df)"
   ]
  },
  {
   "cell_type": "code",
   "execution_count": 6,
   "metadata": {},
   "outputs": [],
   "source": [
    "df.to_csv(\"test.csv\", index=False)"
   ]
  },
  {
   "cell_type": "code",
   "execution_count": null,
   "metadata": {},
   "outputs": [],
   "source": []
  }
 ],
 "metadata": {
  "kernelspec": {
   "display_name": "MoDE",
   "language": "python",
   "name": "python3"
  },
  "language_info": {
   "codemirror_mode": {
    "name": "ipython",
    "version": 3
   },
   "file_extension": ".py",
   "mimetype": "text/x-python",
   "name": "python",
   "nbconvert_exporter": "python",
   "pygments_lexer": "ipython3",
   "version": "3.9.19"
  }
 },
 "nbformat": 4,
 "nbformat_minor": 2
}
