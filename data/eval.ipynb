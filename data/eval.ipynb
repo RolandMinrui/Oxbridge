{
 "cells": [
  {
   "cell_type": "code",
   "execution_count": 2,
   "metadata": {},
   "outputs": [
    {
     "name": "stdout",
     "output_type": "stream",
     "text": [
      "nan\n",
      "Markdown table saved to results.md\n"
     ]
    }
   ],
   "source": [
    "import pandas as pd\n",
    "\n",
    "def calculate_acc(labels, pred_labels):\n",
    "    acc = 0\n",
    "    count = 0\n",
    "    for (label, pred_label) in zip(labels, pred_labels):\n",
    "        try: \n",
    "            if label == pred_label.lstrip().lower():\n",
    "                acc += 1\n",
    "        except:\n",
    "            print(pred_label)\n",
    "        count += 1\n",
    "    return acc / count\n",
    "\n",
    "def save_to_markdown(output_paths, md_output_path):\n",
    "    results_all = {}\n",
    "    \n",
    "    for output_path in output_paths:\n",
    "        df = pd.read_csv(output_path)\n",
    "        model_names = [name for name in list(df.columns) if name not in ['sentence', 'label']]\n",
    "        results = {}\n",
    "        for model in model_names:\n",
    "            results[model] = calculate_acc(df['label'], df[model])\n",
    "        results_all[output_path] = results\n",
    "\n",
    "    # Generate Markdown table\n",
    "    md_table = \"| Model | \" + \" | \".join(results_all.keys()) + \" |\\n\"\n",
    "    md_table += \"|-------|\" + \"|\".join([\"-----\" for _ in results_all.keys()]) + \"|\\n\"\n",
    "    \n",
    "    # Get unique model names across all files\n",
    "    all_models = set()\n",
    "    for results in results_all.values():\n",
    "        all_models.update(results.keys())\n",
    "    \n",
    "    for model in all_models:\n",
    "        row = f\"| {model} | \"\n",
    "        for output_path in results_all.keys():\n",
    "            accuracy = results_all[output_path].get(model, \"N/A\")\n",
    "            if accuracy != \"N/A\":\n",
    "                row += f\"{accuracy:.4f} | \"\n",
    "            else:\n",
    "                row += f\"{accuracy} | \"\n",
    "        md_table += row + \"\\n\"\n",
    "    \n",
    "    # Save to Markdown file\n",
    "    with open(md_output_path, 'w') as f:\n",
    "        f.write(md_table)\n",
    "    \n",
    "    print(f\"Markdown table saved to {md_output_path}\")\n",
    "\n",
    "# output_paths = ['train_easy.csv', 'train_hard.csv', 'FPB.csv']\n",
    "output_paths = ['sentimental_analysis/FIQASA/test.csv']\n",
    "md_output_path = 'results.md'\n",
    "save_to_markdown(output_paths, md_output_path)"
   ]
  },
  {
   "cell_type": "code",
   "execution_count": null,
   "metadata": {},
   "outputs": [],
   "source": []
  }
 ],
 "metadata": {
  "kernelspec": {
   "display_name": "oxbridge",
   "language": "python",
   "name": "python3"
  },
  "language_info": {
   "codemirror_mode": {
    "name": "ipython",
    "version": 3
   },
   "file_extension": ".py",
   "mimetype": "text/x-python",
   "name": "python",
   "nbconvert_exporter": "python",
   "pygments_lexer": "ipython3",
   "version": "3.11.8"
  }
 },
 "nbformat": 4,
 "nbformat_minor": 2
}
