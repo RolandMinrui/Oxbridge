{
 "cells": [
  {
   "cell_type": "code",
   "execution_count": 121,
   "metadata": {},
   "outputs": [],
   "source": [
    "# we sample some context as prior for generation\n",
    "import pandas as pd\n",
    "k = 50\n",
    "df = pd.read_csv(\"../train_hard.csv\")\n",
    "df = df[['sentence']]\n",
    "df['length'] = df['sentence'].str.len()\n",
    "df_sorted = df.sort_values(by='length', ascending=False)\n",
    "df_sorted = df_sorted[df_sorted['length'] < 600] # set a max length\n",
    "df_k = df_sorted.head(k)['sentence']\n",
    "df_k.to_csv(f'top_{k}.csv', index=False)"
   ]
  },
  {
   "cell_type": "code",
   "execution_count": 122,
   "metadata": {},
   "outputs": [],
   "source": [
    "# prompts\n",
    "generation_prompt = '''You are an expert economist tasked with generating a concise and insightful paragraph demonstrating one of three key economic concepts based on a given economic context.\n",
    "Your output must implicitly explain one of the following economic concepts without explicitly naming it.\n",
    "Your output should contain your generated paragraph without anything else.\n",
    "\n",
    "# Concepts:\n",
    "1. Thinking at the Margin: The concept of making decisions by evaluating the additional (marginal) benefits and costs of small changes.\n",
    "2. Counterfactual: The idea of constructing hypothetical scenarios to analyze what could have happened under different conditions, often used for causal analysis.\n",
    "3. General Equilibrium: A framework that examines the simultaneous interaction of multiple markets and agents in an economy, focusing on the interconnectedness of economic systems.\n",
    "\n",
    "# Context:\n",
    "[context]\n",
    "\n",
    "# Instruction:\n",
    "[instruction]\n",
    "\n",
    "# Output:'''\n",
    "\n",
    "instruction_prompt = \"Generate a paragraph of [concept].\"\n",
    "\n",
    "check_prompt = '''You are an expert economist tasked with identifying which one of the three concepts the following paragraph implicitly explaining.\n",
    "The definition of the concepts are explained as follow. You should output the name of the concept only without anything additional. If the paragraph does not related to any of the concepts, output None.\n",
    "\n",
    "# Concepts:\n",
    "1. Thinking at the Margin: The concept of making decisions by evaluating the additional (marginal) benefits and costs of small changes.\n",
    "2. Counterfactual: The idea of constructing hypothetical scenarios to analyze what could have happened under different conditions, often used for causal analysis.\n",
    "3. General Equilibrium: A framework that examines the simultaneous interaction of multiple markets and agents in an economy, focusing on the interconnectedness of economic systems.\n",
    "\n",
    "# Paragraph:\n",
    "[paragraph]\n",
    "\n",
    "# Output:'''\n",
    "\n",
    "def save_to_csv(output_dir, outputs):\n",
    "    df = pd.read_csv(output_dir)\n",
    "    for i, output_dict in enumerate(outputs):\n",
    "        for key, value in output_dict.items():\n",
    "            if key not in df.columns:\n",
    "                df[key] = None\n",
    "            df.at[i, key] = value\n",
    "    df.to_csv(output_dir, index=False)\n"
   ]
  },
  {
   "cell_type": "code",
   "execution_count": 123,
   "metadata": {},
   "outputs": [],
   "source": [
    "from tqdm import tqdm\n",
    "from concurrent.futures import ThreadPoolExecutor\n",
    "from openai import OpenAI,AzureOpenAI\n",
    "\n",
    "def inference(prompt, client, model):\n",
    "    concepts = ['Thinking at the Margin', 'Counterfactual', 'General Equilibrium']\n",
    "    output_dict = {}\n",
    "    for concept in concepts: \n",
    "        try: \n",
    "            instruction = instruction_prompt.replace(\"[concept]\", concept)\n",
    "            response = client.chat.completions.create(\n",
    "                model=model,\n",
    "                messages=[{\"role\": \"user\", \"content\": prompt.replace('instruction', instruction)}], \n",
    "                max_tokens=512,\n",
    "                temperature=0\n",
    "            )\n",
    "            output_dict[concept] = response.choices[0].message.content\n",
    "        except Exception as e: \n",
    "            print(\"!!!!! Error when processing prompt !!!!!\")\n",
    "            print(prompt)\n",
    "            print(concept)\n",
    "            output_dict[concept] = None\n",
    "    return output_dict\n",
    "\n",
    "def batch_inference(batch_data, client, model, max_workers=5):\n",
    "    results = []\n",
    "    with ThreadPoolExecutor(max_workers=max_workers) as executor:\n",
    "        futures = list(\n",
    "            tqdm(\n",
    "                executor.map(lambda x: inference(x, client, model), batch_data),\n",
    "                total=len(batch_data)\n",
    "            )\n",
    "        )\n",
    "        for future in futures:\n",
    "            results.append(future)\n",
    "    return results"
   ]
  },
  {
   "cell_type": "code",
   "execution_count": 124,
   "metadata": {},
   "outputs": [
    {
     "name": "stdout",
     "output_type": "stream",
     "text": [
      "----- Load Dataset -----\n",
      "----- Inference Azure GPT-4O-Mini -----\n"
     ]
    },
    {
     "name": "stderr",
     "output_type": "stream",
     "text": [
      "100%|██████████| 50/50 [01:11<00:00,  1.43s/it]\n"
     ]
    }
   ],
   "source": [
    "# use appropriate dataset for inference\n",
    "data_path = f\"top_{k}.csv\"\n",
    "\n",
    "print(\"----- Load Dataset -----\")\n",
    "df = pd.read_csv(data_path)\n",
    "batch_data = [generation_prompt.replace(\"[context]\", context) for context in df['sentence']]\n",
    "\n",
    "print(\"----- Inference Azure GPT-4O-Mini -----\")\n",
    "client = AzureOpenAI(api_key=\"b9135a15c242432cb20ddc43fea3a413\", api_version=\"2023-06-01-preview\", azure_endpoint=\"https://openai-oe.openai.azure.com/\")\n",
    "outputs = batch_inference(batch_data, client, \"gpt-4o-mini\", 4)\n",
    "save_to_csv(data_path, outputs)"
   ]
  },
  {
   "cell_type": "code",
   "execution_count": 125,
   "metadata": {},
   "outputs": [],
   "source": [
    "output_dataset = {\n",
    "    \"sentence\": [], \n",
    "    \"label\": []\n",
    "}\n",
    "for i, output_dict in enumerate(outputs):\n",
    "    for key, value in output_dict.items():\n",
    "        output_dataset['sentence'].append(value)\n",
    "        output_dataset['label'].append(key)\n",
    "\n",
    "df = pd.DataFrame(output_dataset)\n",
    "df.to_csv(f\"econ-concepts-{k}.csv\", index=False)"
   ]
  },
  {
   "cell_type": "code",
   "execution_count": null,
   "metadata": {},
   "outputs": [],
   "source": []
  }
 ],
 "metadata": {
  "kernelspec": {
   "display_name": "oxbridge",
   "language": "python",
   "name": "python3"
  },
  "language_info": {
   "codemirror_mode": {
    "name": "ipython",
    "version": 3
   },
   "file_extension": ".py",
   "mimetype": "text/x-python",
   "name": "python",
   "nbconvert_exporter": "python",
   "pygments_lexer": "ipython3",
   "version": "3.11.8"
  }
 },
 "nbformat": 4,
 "nbformat_minor": 2
}
