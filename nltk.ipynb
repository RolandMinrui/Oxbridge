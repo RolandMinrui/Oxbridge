{
 "cells": [
  {
   "cell_type": "code",
   "execution_count": 1,
   "metadata": {},
   "outputs": [
    {
     "name": "stderr",
     "output_type": "stream",
     "text": [
      "/Users/roland/anaconda3/envs/oxbridge/lib/python3.11/site-packages/tqdm/auto.py:21: TqdmWarning: IProgress not found. Please update jupyter and ipywidgets. See https://ipywidgets.readthedocs.io/en/stable/user_install.html\n",
      "  from .autonotebook import tqdm as notebook_tqdm\n",
      "[nltk_data] Downloading package vader_lexicon to\n",
      "[nltk_data]     /Users/roland/nltk_data...\n",
      "[nltk_data]   Package vader_lexicon is already up-to-date!\n"
     ]
    },
    {
     "name": "stdout",
     "output_type": "stream",
     "text": [
      "----- Load Dataset -----\n",
      "----- Run Sentiment Analysis -----\n"
     ]
    },
    {
     "name": "stderr",
     "output_type": "stream",
     "text": [
      "299it [00:01, 235.99it/s]"
     ]
    },
    {
     "name": "stdout",
     "output_type": "stream",
     "text": [
      "----- Save Outputs -----\n"
     ]
    },
    {
     "name": "stderr",
     "output_type": "stream",
     "text": [
      "\n"
     ]
    }
   ],
   "source": [
    "# run sentiment analysis for NLTK VADER\n",
    "\n",
    "from utils import TestDataset, save_to_csv\n",
    "from tqdm import tqdm\n",
    "import pandas as pd\n",
    "import torch\n",
    "from torch.utils.data import DataLoader\n",
    "from transformers import AutoTokenizer, AutoModelForSequenceClassification\n",
    "import nltk\n",
    "from nltk.sentiment.vader import SentimentIntensityAnalyzer\n",
    "nltk.download('vader_lexicon') # sentiment labels\n",
    "device = \"mps\"\n",
    "\n",
    "print(\"----- Load Dataset -----\")\n",
    "# use appropriate dataset for inference\n",
    "# data_path = \"data/train_easy.csv\"\n",
    "# data_path = \"data/train_hard.csv\"\n",
    "data_path = \"data/FPB.csv\"\n",
    "\n",
    "test_dataset = TestDataset(data_path)\n",
    "test_dataloader = DataLoader(test_dataset, batch_size=1, collate_fn=test_dataset.collate_fn)\n",
    "\n",
    "print(\"----- Run Sentiment Analysis -----\")\n",
    "labels = []\n",
    "label_map = {'neg': 'negative', 'pos': 'postive', 'neu': 'neutral'}\n",
    "for i, batch in tqdm(enumerate(test_dataloader)):\n",
    "    compound = SentimentIntensityAnalyzer().polarity_scores(batch['sentence'][0])['compound']\n",
    "    if compound >= -1 and compound <= -0.05:\n",
    "        label = 'negative'\n",
    "    elif compound > -0.05 and compound < 0.05:\n",
    "        label = 'neural'\n",
    "    elif compound >= 0.05 and compound <= 1:\n",
    "        label = 'positive'\n",
    "    else:\n",
    "        raise Exception\n",
    "    labels.append(label)\n",
    "\n",
    "print(\"----- Save Outputs -----\")\n",
    "model_name = \"NLTK\"\n",
    "save_to_csv(data_path, model_name, labels)\n"
   ]
  },
  {
   "cell_type": "code",
   "execution_count": null,
   "metadata": {},
   "outputs": [],
   "source": []
  }
 ],
 "metadata": {
  "kernelspec": {
   "display_name": "oxbridge",
   "language": "python",
   "name": "python3"
  },
  "language_info": {
   "codemirror_mode": {
    "name": "ipython",
    "version": 3
   },
   "file_extension": ".py",
   "mimetype": "text/x-python",
   "name": "python",
   "nbconvert_exporter": "python",
   "pygments_lexer": "ipython3",
   "version": "3.11.8"
  }
 },
 "nbformat": 4,
 "nbformat_minor": 2
}
