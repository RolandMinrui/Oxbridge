{
 "cells": [
  {
   "cell_type": "code",
   "execution_count": 1,
   "metadata": {},
   "outputs": [],
   "source": [
    "import pandas as pd\n",
    "from utils import dataset_map\n",
    "\n",
    "def calculate_acc(labels, pred_labels):\n",
    "    acc = 0\n",
    "    count = 0\n",
    "    for (label, pred_label) in zip(labels, pred_labels):\n",
    "        try: \n",
    "            if label == pred_label.lstrip().lower():\n",
    "                acc += 1\n",
    "        except:\n",
    "            print(pred_label)\n",
    "        count += 1\n",
    "    return acc / count\n",
    "\n",
    "def save_to_markdown(output_paths, md_output_path, output_names=None, true_col='label', skip_cols=['sentence']):\n",
    "    print()\n",
    "    if output_names is not None and len(output_names) != len(output_paths):\n",
    "        raise ValueError(\"The length of output_names must match the length of output_paths.\")\n",
    "    \n",
    "    results_all = {}\n",
    "    \n",
    "    for i, output_path in enumerate(output_paths):\n",
    "        try:\n",
    "            df = pd.read_csv(output_path)\n",
    "            model_names = [name for name in df.columns if name not in skip_cols + [true_col]]\n",
    "            results = {}\n",
    "            for model in model_names:\n",
    "                results[model] = calculate_acc(df[true_col], df[model])\n",
    "            results_all[output_path] = results\n",
    "        except Exception as e:\n",
    "            print(f\"Error processing {output_path}: {e}\")\n",
    "            continue\n",
    "\n",
    "    # Generate Markdown table\n",
    "    if output_names is not None:\n",
    "        headers = output_names\n",
    "    else:\n",
    "        headers = results_all.keys()\n",
    "    \n",
    "    md_table = \"| Model | \" + \" | \".join(headers) + \" |\\n\"\n",
    "    md_table += \"|-------|\" + \"|\".join([\"-----\" for _ in headers]) + \"|\\n\"\n",
    "    \n",
    "    # Get unique model names across all files\n",
    "    all_models = set()\n",
    "    for results in results_all.values():\n",
    "        all_models.update(results.keys())\n",
    "    \n",
    "    for model in all_models:\n",
    "        row = f\"| {model} | \"\n",
    "        for output_path in results_all.keys():\n",
    "            accuracy = results_all[output_path].get(model, \"N/A\")\n",
    "            if accuracy != \"N/A\":\n",
    "                row += f\"{accuracy:.4f} | \"\n",
    "            else:\n",
    "                row += f\"{accuracy} | \"\n",
    "        md_table += row + \"\\n\"\n",
    "    \n",
    "    # Save to Markdown file\n",
    "    try:\n",
    "        with open(md_output_path, 'w') as f:\n",
    "            f.write(md_table)\n",
    "        print(f\"Markdown table saved to {md_output_path}\")\n",
    "    except Exception as e:\n",
    "        print(f\"Error saving Markdown file: {e}\")"
   ]
  },
  {
   "cell_type": "code",
   "execution_count": 2,
   "metadata": {},
   "outputs": [
    {
     "name": "stdout",
     "output_type": "stream",
     "text": [
      "\n",
      "nan\n",
      "nan\n",
      "Markdown table saved to results.md\n"
     ]
    }
   ],
   "source": [
    "output_paths = [dataset_map[key]['path'] for key in dataset_map]\n",
    "output_names = [key for key in dataset_map]\n",
    "md_output_path = 'results.md'\n",
    "save_to_markdown(output_paths, md_output_path, output_names)"
   ]
  },
  {
   "cell_type": "code",
   "execution_count": null,
   "metadata": {},
   "outputs": [],
   "source": []
  }
 ],
 "metadata": {
  "kernelspec": {
   "display_name": "oxbridge",
   "language": "python",
   "name": "python3"
  },
  "language_info": {
   "codemirror_mode": {
    "name": "ipython",
    "version": 3
   },
   "file_extension": ".py",
   "mimetype": "text/x-python",
   "name": "python",
   "nbconvert_exporter": "python",
   "pygments_lexer": "ipython3",
   "version": "3.9.19"
  }
 },
 "nbformat": 4,
 "nbformat_minor": 2
}
