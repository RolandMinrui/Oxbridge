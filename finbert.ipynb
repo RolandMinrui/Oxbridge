{
 "cells": [
  {
   "cell_type": "code",
   "execution_count": 1,
   "metadata": {},
   "outputs": [
    {
     "name": "stderr",
     "output_type": "stream",
     "text": [
      "/Users/roland/anaconda3/envs/oxbridge/lib/python3.11/site-packages/tqdm/auto.py:21: TqdmWarning: IProgress not found. Please update jupyter and ipywidgets. See https://ipywidgets.readthedocs.io/en/stable/user_install.html\n",
      "  from .autonotebook import tqdm as notebook_tqdm\n"
     ]
    },
    {
     "name": "stdout",
     "output_type": "stream",
     "text": [
      "----- Load Dataset -----\n",
      "----- Load Tokenizer and Model -----\n",
      "----- Run Sentiment Analysis -----\n"
     ]
    },
    {
     "name": "stderr",
     "output_type": "stream",
     "text": [
      "38it [00:04,  7.86it/s]"
     ]
    },
    {
     "name": "stdout",
     "output_type": "stream",
     "text": [
      "----- Save Outputs -----\n"
     ]
    },
    {
     "name": "stderr",
     "output_type": "stream",
     "text": [
      "\n"
     ]
    }
   ],
   "source": [
    "# run sentiment analysis for finbert (AutoModelForSequenceClassification)\n",
    "\n",
    "from utils import TestDataset, save_to_csv\n",
    "from tqdm import tqdm\n",
    "import pandas as pd\n",
    "import torch\n",
    "from torch.utils.data import DataLoader\n",
    "from transformers import AutoTokenizer, AutoModelForSequenceClassification\n",
    "device = \"mps\"\n",
    "\n",
    "print(\"----- Load Dataset -----\")\n",
    "# use appropriate dataset for inference\n",
    "# data_path = \"data/train_easy.csv\"\n",
    "# data_path = \"data/train_hard.csv\"\n",
    "data_path = \"data/FPB.csv\"\n",
    "\n",
    "test_dataset = TestDataset(data_path)\n",
    "test_dataloader = DataLoader(test_dataset, batch_size=8, collate_fn=test_dataset.collate_fn)\n",
    "\n",
    "\n",
    "print(\"----- Load Tokenizer and Model -----\")\n",
    "model_name_or_path = \"ProsusAI/finbert\"\n",
    "model_name = \"finbert\"\n",
    "tokenizer = AutoTokenizer.from_pretrained(model_name_or_path, \n",
    "                                            padding_side=\"left\",\n",
    "                                            use_fast=True)\n",
    "model = AutoModelForSequenceClassification.from_pretrained(model_name_or_path,\n",
    "                                                            torch_dtype=torch.bfloat16,\n",
    "                                                            device_map=device)\n",
    "\n",
    "print(\"----- Run Sentiment Analysis -----\")\n",
    "labels = []\n",
    "for i, batch in tqdm(enumerate(test_dataloader)):\n",
    "    tokenized_batch = tokenizer(batch['sentence'], \n",
    "                                padding=True, \n",
    "                                truncation=True, \n",
    "                                return_tensors=\"pt\").to(device)\n",
    "    output_logits = model(**tokenized_batch).logits\n",
    "\n",
    "    label_map = {0: 'positive', 1: 'negative', 2: 'neutral'}\n",
    "    output_labels = torch.argmax(output_logits, dim=-1)\n",
    "    labels.extend([label_map[label.item()] for label in output_labels])\n",
    "\n",
    "print(\"----- Save Outputs -----\")\n",
    "save_to_csv(data_path, model_name, labels)\n"
   ]
  },
  {
   "cell_type": "code",
   "execution_count": null,
   "metadata": {},
   "outputs": [],
   "source": []
  }
 ],
 "metadata": {
  "kernelspec": {
   "display_name": "oxbridge",
   "language": "python",
   "name": "python3"
  },
  "language_info": {
   "codemirror_mode": {
    "name": "ipython",
    "version": 3
   },
   "file_extension": ".py",
   "mimetype": "text/x-python",
   "name": "python",
   "nbconvert_exporter": "python",
   "pygments_lexer": "ipython3",
   "version": "3.11.8"
  }
 },
 "nbformat": 4,
 "nbformat_minor": 2
}
