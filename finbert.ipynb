{
 "cells": [
  {
   "cell_type": "code",
   "execution_count": 2,
   "metadata": {},
   "outputs": [
    {
     "name": "stdout",
     "output_type": "stream",
     "text": [
      "----- Load Dataset -----\n",
      "----- Load Tokenizer and Model -----\n"
     ]
    },
    {
     "name": "stderr",
     "output_type": "stream",
     "text": [
      "huggingface/tokenizers: The current process just got forked, after parallelism has already been used. Disabling parallelism to avoid deadlocks...\n",
      "To disable this warning, you can either:\n",
      "\t- Avoid using `tokenizers` before the fork if possible\n",
      "\t- Explicitly set the environment variable TOKENIZERS_PARALLELISM=(true | false)\n"
     ]
    },
    {
     "name": "stdout",
     "output_type": "stream",
     "text": [
      "----- Run Sentiment Analysis -----\n"
     ]
    },
    {
     "name": "stderr",
     "output_type": "stream",
     "text": [
      "30it [00:03,  7.76it/s]"
     ]
    },
    {
     "name": "stdout",
     "output_type": "stream",
     "text": [
      "----- Save Outputs -----\n",
      "Save to data/sentimental_analysis/FIQASA/test.csv\n"
     ]
    },
    {
     "name": "stderr",
     "output_type": "stream",
     "text": [
      "\n"
     ]
    }
   ],
   "source": [
    "# run sentiment analysis for finbert (AutoModelForSequenceClassification)\n",
    "\n",
    "from utils import *\n",
    "from tqdm import tqdm\n",
    "import pandas as pd\n",
    "import torch\n",
    "from torch.utils.data import DataLoader\n",
    "from transformers import AutoTokenizer, AutoModelForSequenceClassification\n",
    "device = \"mps\"\n",
    "\n",
    "print(\"----- Load Dataset -----\")\n",
    "# use appropriate dataset for inference\n",
    "# dataset=\"FPB\"\n",
    "dataset=\"FIQASA\"\n",
    "test_dataset = TestDataset(dataset=dataset, use_template=False)\n",
    "test_dataloader = DataLoader(test_dataset, batch_size=8, collate_fn=test_dataset.collate_fn)\n",
    "\n",
    "\n",
    "print(\"----- Load Tokenizer and Model -----\")\n",
    "model_name_or_path = \"ProsusAI/finbert\"\n",
    "model_name = \"finbert\"\n",
    "tokenizer = AutoTokenizer.from_pretrained(model_name_or_path, \n",
    "                                            padding_side=\"left\",\n",
    "                                            use_fast=True)\n",
    "model = AutoModelForSequenceClassification.from_pretrained(model_name_or_path,\n",
    "                                                            torch_dtype=torch.bfloat16,\n",
    "                                                            device_map=device)\n",
    "\n",
    "print(\"----- Run Sentiment Analysis -----\")\n",
    "labels = []\n",
    "for i, batch in tqdm(enumerate(test_dataloader)):\n",
    "    tokenized_batch = tokenizer(batch['sentence'], \n",
    "                                padding=True, \n",
    "                                truncation=True, \n",
    "                                return_tensors=\"pt\").to(device)\n",
    "    output_logits = model(**tokenized_batch).logits\n",
    "\n",
    "    label_map = {0: 'positive', 1: 'negative', 2: 'neutral'}\n",
    "    output_labels = torch.argmax(output_logits, dim=-1)\n",
    "    labels.extend([label_map[label.item()] for label in output_labels])\n",
    "\n",
    "print(\"----- Save Outputs -----\")\n",
    "save_to_csv(dataset_map[dataset]['path'], model_name, labels)\n"
   ]
  },
  {
   "cell_type": "code",
   "execution_count": null,
   "metadata": {},
   "outputs": [],
   "source": []
  }
 ],
 "metadata": {
  "kernelspec": {
   "display_name": "oxbridge",
   "language": "python",
   "name": "python3"
  },
  "language_info": {
   "codemirror_mode": {
    "name": "ipython",
    "version": 3
   },
   "file_extension": ".py",
   "mimetype": "text/x-python",
   "name": "python",
   "nbconvert_exporter": "python",
   "pygments_lexer": "ipython3",
   "version": "3.11.8"
  }
 },
 "nbformat": 4,
 "nbformat_minor": 2
}
