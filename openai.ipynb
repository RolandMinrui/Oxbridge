{
 "cells": [
  {
   "cell_type": "code",
   "execution_count": 1,
   "metadata": {},
   "outputs": [],
   "source": [
    "# run sentiment analysis for OpenAI API and Azure API\n",
    "\n",
    "from utils import *\n",
    "from tqdm import tqdm\n",
    "import pandas as pd \n",
    "from concurrent.futures import ThreadPoolExecutor\n",
    "from openai import OpenAI,AzureOpenAI\n",
    "\n",
    "def inference(prompt, client, model):\n",
    "    try:\n",
    "        response = client.chat.completions.create(\n",
    "            model=model,\n",
    "            messages=[{\"role\": \"user\", \"content\": prompt}], \n",
    "            max_tokens=4,\n",
    "            temperature=0\n",
    "        )\n",
    "        return response.choices[0].message.content\n",
    "    except Exception as e:\n",
    "        print(\"!!!!! Error when processing prompt !!!!!\")\n",
    "        print(prompt)\n",
    "        # print(f\"!!!!! {e} !!!!!\")\n",
    "        return None\n",
    "\n",
    "def batch_inference(batch_data, client, model, max_workers=5):\n",
    "    results = []\n",
    "    with ThreadPoolExecutor(max_workers=max_workers) as executor:\n",
    "        futures = list(\n",
    "            tqdm(\n",
    "                executor.map(lambda x: inference(x, client, model), batch_data),\n",
    "                total=len(batch_data)\n",
    "            )\n",
    "        )\n",
    "        for future in futures:\n",
    "            results.append(future)\n",
    "    return results"
   ]
  },
  {
   "cell_type": "code",
   "execution_count": 3,
   "metadata": {},
   "outputs": [
    {
     "name": "stdout",
     "output_type": "stream",
     "text": [
      "----- Load Dataset -----\n",
      "----- Inference Deepseek -----\n"
     ]
    },
    {
     "name": "stderr",
     "output_type": "stream",
     "text": [
      "  0%|          | 0/235 [00:00<?, ?it/s]"
     ]
    },
    {
     "name": "stderr",
     "output_type": "stream",
     "text": [
      "100%|██████████| 235/235 [00:16<00:00, 14.31it/s]\n"
     ]
    },
    {
     "name": "stdout",
     "output_type": "stream",
     "text": [
      "Save to data/sentimental_analysis/FIQASA/test.csv\n",
      "----- Inference Azure GPT-4O-Mini -----\n"
     ]
    },
    {
     "name": "stderr",
     "output_type": "stream",
     "text": [
      "  0%|          | 1/235 [00:01<04:40,  1.20s/it]"
     ]
    },
    {
     "name": "stdout",
     "output_type": "stream",
     "text": [
      "!!!!! Error when processing prompt !!!!!\n",
      "Instruction: What is the sentiment of this news? Please choose an answer from {negative/neutral/positive} without anything else.\n",
      "Input: $KIOR My god. Market getting crushed today. Gotta hold if anything g should recover some tomorrow I imagine.\n",
      "Answer: \n"
     ]
    },
    {
     "name": "stderr",
     "output_type": "stream",
     "text": [
      "  2%|▏         | 4/235 [00:02<01:55,  2.00it/s]"
     ]
    },
    {
     "name": "stdout",
     "output_type": "stream",
     "text": [
      "!!!!! Error when processing prompt !!!!!\n",
      "Instruction: What is the sentiment of this news? Please choose an answer from {negative/neutral/positive} without anything else.\n",
      "Input: $YANG Double bottom 5.2\n",
      "Answer: \n"
     ]
    },
    {
     "name": "stderr",
     "output_type": "stream",
     "text": [
      " 31%|███       | 73/235 [00:06<00:09, 17.89it/s]"
     ]
    },
    {
     "name": "stdout",
     "output_type": "stream",
     "text": [
      "!!!!! Error when processing prompt !!!!!\n",
      "Instruction: What is the sentiment of this news? Please choose an answer from {negative/neutral/positive} without anything else.\n",
      "Input: $GOOG resistance turned support?  It\n",
      "Answer: \n",
      "!!!!! Error when processing prompt !!!!!\n",
      "Instruction: What is the sentiment of this news? Please choose an answer from {negative/neutral/positive} without anything else.\n",
      "Input: $PKT Momentum building for breakout trigger ! Long setup http://stks.co/eXVU\n",
      "Answer: \n"
     ]
    },
    {
     "name": "stderr",
     "output_type": "stream",
     "text": [
      "100%|██████████| 235/235 [00:13<00:00, 18.00it/s]"
     ]
    },
    {
     "name": "stdout",
     "output_type": "stream",
     "text": [
      "Save to data/sentimental_analysis/FIQASA/test.csv\n"
     ]
    },
    {
     "name": "stderr",
     "output_type": "stream",
     "text": [
      "\n"
     ]
    }
   ],
   "source": [
    "dataset=\"FIQASA\"\n",
    "# dataset=\"FPB\"\n",
    "test_dataset = TestDataset(dataset=dataset)\n",
    "\n",
    "print(\"----- Load Dataset -----\")\n",
    "test_dataset = TestDataset(dataset=dataset)\n",
    "batch_data = [test_dataset[i]['sentence'] for i in range(len(test_dataset))]\n",
    "\n",
    "print(\"----- Inference Deepseek -----\")\n",
    "deepseek = OpenAI(api_key=\"sk-619b8461a6e546d5a69c207e9b37ddc2\", base_url=\"https://api.deepseek.com\")\n",
    "deepseek_outputs = batch_inference(batch_data, deepseek, \"deepseek-chat\", 16)\n",
    "save_to_csv(dataset_map[dataset]['path'], \"deepseek\", deepseek_outputs)\n",
    "\n",
    "print(\"----- Inference Azure GPT-4O-Mini -----\")\n",
    "gpt = AzureOpenAI(api_key=\"b9135a15c242432cb20ddc43fea3a413\", api_version=\"2023-06-01-preview\", azure_endpoint=\"https://openai-oe.openai.azure.com/\")\n",
    "gpt_outputs = batch_inference(batch_data, gpt, \"gpt-4o-mini\", 16)\n",
    "save_to_csv(dataset_map[dataset]['path'], \"openai\", gpt_outputs)"
   ]
  },
  {
   "cell_type": "code",
   "execution_count": null,
   "metadata": {},
   "outputs": [],
   "source": []
  }
 ],
 "metadata": {
  "kernelspec": {
   "display_name": "oxbridge",
   "language": "python",
   "name": "python3"
  },
  "language_info": {
   "codemirror_mode": {
    "name": "ipython",
    "version": 3
   },
   "file_extension": ".py",
   "mimetype": "text/x-python",
   "name": "python",
   "nbconvert_exporter": "python",
   "pygments_lexer": "ipython3",
   "version": "3.9.19"
  }
 },
 "nbformat": 4,
 "nbformat_minor": 2
}
