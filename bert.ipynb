{
 "cells": [
  {
   "cell_type": "code",
   "execution_count": 8,
   "metadata": {},
   "outputs": [],
   "source": [
    "import numpy as np\n",
    "import pandas as pd\n",
    "from transformers import AutoTokenizer, Trainer, AutoModelForSequenceClassification, TrainingArguments\n",
    "from datasets import Dataset\n",
    "import torch\n",
    "from sklearn.model_selection import train_test_split\n",
    "from sklearn.metrics import accuracy_score"
   ]
  },
  {
   "cell_type": "code",
   "execution_count": 9,
   "metadata": {},
   "outputs": [],
   "source": [
    "label_mapping = {\n",
    "    \"Thinking at the Margin\": 0, \n",
    "    \"Counterfactual\": 1, \n",
    "    \"General Equilibrium\": 2\n",
    "}\n",
    "df = pd.read_csv(\"data/econ-concepts/econ-concepts-50.csv\")\n",
    "\n",
    "# label_mapping = {\n",
    "#     \"neutral\": 0, \n",
    "#     \"positive\": 1, \n",
    "#     \"negative\": 2\n",
    "# }\n",
    "# df = pd.read_csv(\"data/train.csv\")\n",
    "\n",
    "\n",
    "df['label'] = df['label'].map(label_mapping)\n",
    "df_train, df_test, = train_test_split(df, stratify=df['label'], test_size=0.1, random_state=0)\n",
    "df_train, df_val = train_test_split(df_train, stratify=df_train['label'], test_size=0.1, random_state=0)"
   ]
  },
  {
   "cell_type": "code",
   "execution_count": 10,
   "metadata": {},
   "outputs": [
    {
     "name": "stderr",
     "output_type": "stream",
     "text": [
      "Some weights of BertForSequenceClassification were not initialized from the model checkpoint at bert-base-uncased and are newly initialized: ['classifier.bias', 'classifier.weight']\n",
      "You should probably TRAIN this model on a down-stream task to be able to use it for predictions and inference.\n"
     ]
    }
   ],
   "source": [
    "model_name_or_path = \"bert-base-uncased\"\n",
    "model_name = 'bert'\n",
    "device = 'mps'\n",
    "tokenizer = AutoTokenizer.from_pretrained(model_name_or_path, padding_side=\"left\", use_fast=True)\n",
    "model = AutoModelForSequenceClassification.from_pretrained(\n",
    "            model_name_or_path, num_labels=3, torch_dtype=torch.bfloat16, device_map=device\n",
    "        )\n"
   ]
  },
  {
   "cell_type": "code",
   "execution_count": 11,
   "metadata": {},
   "outputs": [
    {
     "name": "stderr",
     "output_type": "stream",
     "text": [
      "Map: 100%|██████████| 121/121 [00:00<00:00, 2576.55 examples/s]\n",
      "Map: 100%|██████████| 14/14 [00:00<00:00, 2771.13 examples/s]\n",
      "Map: 100%|██████████| 15/15 [00:00<00:00, 2523.14 examples/s]\n"
     ]
    }
   ],
   "source": [
    "dataset_train = Dataset.from_pandas(df_train)\n",
    "dataset_val = Dataset.from_pandas(df_val)\n",
    "dataset_test = Dataset.from_pandas(df_test)\n",
    "\n",
    "dataset_train = dataset_train.map(lambda e: tokenizer(e['sentence'], truncation=True, padding='max_length', max_length=256), batched=True)\n",
    "dataset_val = dataset_val.map(lambda e: tokenizer(e['sentence'], truncation=True, padding='max_length', max_length=256), batched=True)\n",
    "dataset_test = dataset_test.map(lambda e: tokenizer(e['sentence'], truncation=True, padding='max_length' , max_length=256), batched=True)\n",
    "\n",
    "dataset_train.set_format(type='torch', columns=['input_ids', 'token_type_ids', 'attention_mask', 'label'])\n",
    "dataset_val.set_format(type='torch', columns=['input_ids', 'token_type_ids', 'attention_mask', 'label'])\n",
    "dataset_test.set_format(type='torch', columns=['input_ids', 'token_type_ids', 'attention_mask', 'label'])"
   ]
  },
  {
   "cell_type": "code",
   "execution_count": 12,
   "metadata": {},
   "outputs": [
    {
     "name": "stderr",
     "output_type": "stream",
     "text": [
      "/Users/roland/anaconda3/envs/oxbridge/lib/python3.11/site-packages/transformers/training_args.py:1575: FutureWarning: `evaluation_strategy` is deprecated and will be removed in version 4.46 of 🤗 Transformers. Use `eval_strategy` instead\n",
      "  warnings.warn(\n"
     ]
    }
   ],
   "source": [
    "def compute_metrics(eval_pred):\n",
    "    predictions, labels = eval_pred\n",
    "    predictions = np.argmax(predictions, axis=1)\n",
    "    return {'accuracy' : accuracy_score(predictions, labels)}\n",
    "\n",
    "args = TrainingArguments(\n",
    "        output_dir = 'output_models/',\n",
    "        evaluation_strategy = 'epoch',\n",
    "        save_strategy = 'epoch',\n",
    "        learning_rate=2e-5,\n",
    "        per_device_train_batch_size=4,\n",
    "        per_device_eval_batch_size=2,\n",
    "        num_train_epochs=5,\n",
    "        weight_decay=0.01,\n",
    "        load_best_model_at_end=True,\n",
    "        metric_for_best_model='accuracy',\n",
    ")\n",
    "\n",
    "trainer = Trainer(\n",
    "        model=model,                  \n",
    "        args=args,          \n",
    "        train_dataset=dataset_train,       \n",
    "        eval_dataset=dataset_val,      \n",
    "        compute_metrics=compute_metrics\n",
    ")"
   ]
  },
  {
   "cell_type": "code",
   "execution_count": 13,
   "metadata": {},
   "outputs": [
    {
     "name": "stderr",
     "output_type": "stream",
     "text": [
      " 20%|██        | 31/155 [00:28<01:38,  1.26it/s]\n",
      " 20%|██        | 31/155 [00:29<01:38,  1.26it/s]"
     ]
    },
    {
     "name": "stdout",
     "output_type": "stream",
     "text": [
      "{'eval_loss': 0.9871651530265808, 'eval_accuracy': 0.42857142857142855, 'eval_runtime': 1.0166, 'eval_samples_per_second': 13.771, 'eval_steps_per_second': 6.885, 'epoch': 1.0}\n"
     ]
    },
    {
     "name": "stderr",
     "output_type": "stream",
     "text": [
      " 40%|████      | 62/155 [01:02<01:13,  1.27it/s]\n",
      " 40%|████      | 62/155 [01:03<01:13,  1.27it/s]"
     ]
    },
    {
     "name": "stdout",
     "output_type": "stream",
     "text": [
      "{'eval_loss': 0.8392857313156128, 'eval_accuracy': 0.5, 'eval_runtime': 0.9596, 'eval_samples_per_second': 14.589, 'eval_steps_per_second': 7.295, 'epoch': 2.0}\n"
     ]
    },
    {
     "name": "stderr",
     "output_type": "stream",
     "text": [
      " 60%|██████    | 93/155 [01:34<00:49,  1.26it/s]\n",
      " 60%|██████    | 93/155 [01:35<00:49,  1.26it/s]"
     ]
    },
    {
     "name": "stdout",
     "output_type": "stream",
     "text": [
      "{'eval_loss': 0.7979910969734192, 'eval_accuracy': 0.5714285714285714, 'eval_runtime': 1.2615, 'eval_samples_per_second': 11.098, 'eval_steps_per_second': 5.549, 'epoch': 3.0}\n"
     ]
    },
    {
     "name": "stderr",
     "output_type": "stream",
     "text": [
      " 80%|████████  | 124/155 [02:13<00:31,  1.02s/it]\n",
      " 80%|████████  | 124/155 [02:14<00:31,  1.02s/it]"
     ]
    },
    {
     "name": "stdout",
     "output_type": "stream",
     "text": [
      "{'eval_loss': 0.7912946343421936, 'eval_accuracy': 0.6428571428571429, 'eval_runtime': 1.0525, 'eval_samples_per_second': 13.302, 'eval_steps_per_second': 6.651, 'epoch': 4.0}\n"
     ]
    },
    {
     "name": "stderr",
     "output_type": "stream",
     "text": [
      "100%|██████████| 155/155 [02:59<00:00,  1.24s/it]\n",
      "100%|██████████| 155/155 [03:03<00:00,  1.24s/it]"
     ]
    },
    {
     "name": "stdout",
     "output_type": "stream",
     "text": [
      "{'eval_loss': 0.7912946343421936, 'eval_accuracy': 0.5714285714285714, 'eval_runtime': 1.8562, 'eval_samples_per_second': 7.542, 'eval_steps_per_second': 3.771, 'epoch': 5.0}\n"
     ]
    },
    {
     "name": "stderr",
     "output_type": "stream",
     "text": [
      "100%|██████████| 155/155 [03:05<00:00,  1.20s/it]"
     ]
    },
    {
     "name": "stdout",
     "output_type": "stream",
     "text": [
      "{'train_runtime': 185.6468, 'train_samples_per_second': 3.259, 'train_steps_per_second': 0.835, 'train_loss': 0.8922379032258064, 'epoch': 5.0}\n"
     ]
    },
    {
     "name": "stderr",
     "output_type": "stream",
     "text": [
      "\n"
     ]
    },
    {
     "data": {
      "text/plain": [
       "TrainOutput(global_step=155, training_loss=0.8922379032258064, metrics={'train_runtime': 185.6468, 'train_samples_per_second': 3.259, 'train_steps_per_second': 0.835, 'total_flos': 79591808862720.0, 'train_loss': 0.8922379032258064, 'epoch': 5.0})"
      ]
     },
     "execution_count": 13,
     "metadata": {},
     "output_type": "execute_result"
    }
   ],
   "source": [
    "trainer.train()"
   ]
  },
  {
   "cell_type": "code",
   "execution_count": 14,
   "metadata": {},
   "outputs": [
    {
     "name": "stderr",
     "output_type": "stream",
     "text": [
      "100%|██████████| 8/8 [00:01<00:00,  5.96it/s]\n"
     ]
    },
    {
     "data": {
      "text/plain": [
       "{'test_loss': 0.9234374761581421,\n",
       " 'test_accuracy': 0.3333333333333333,\n",
       " 'test_runtime': 1.6782,\n",
       " 'test_samples_per_second': 8.938,\n",
       " 'test_steps_per_second': 4.767}"
      ]
     },
     "execution_count": 14,
     "metadata": {},
     "output_type": "execute_result"
    }
   ],
   "source": [
    "model.eval()\n",
    "trainer.predict(dataset_test).metrics"
   ]
  },
  {
   "cell_type": "code",
   "execution_count": null,
   "metadata": {},
   "outputs": [],
   "source": []
  }
 ],
 "metadata": {
  "kernelspec": {
   "display_name": "oxbridge",
   "language": "python",
   "name": "python3"
  },
  "language_info": {
   "codemirror_mode": {
    "name": "ipython",
    "version": 3
   },
   "file_extension": ".py",
   "mimetype": "text/x-python",
   "name": "python",
   "nbconvert_exporter": "python",
   "pygments_lexer": "ipython3",
   "version": "3.11.8"
  }
 },
 "nbformat": 4,
 "nbformat_minor": 2
}
